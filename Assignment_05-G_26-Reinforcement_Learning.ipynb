{
 "cells": [
  {
   "cell_type": "markdown",
   "metadata": {},
   "source": [
    "$\\qquad$ $\\qquad$$\\qquad$  **DAT405 Introduction to Data Science and AI, LP4 2022** <br />\n",
    "$\\qquad$ $\\qquad$$\\qquad$                   **Assignment 5: Reinforcement learning** <br />\n",
    "$\\qquad$ $\\qquad$$\\qquad$                   **Submitted by: Name, Personal No., Email** <br />\n",
    "\n",
    "---\n",
    "\n",
    "\n",
    "General guidelines:\n",
    "*   All solutions to theoretical and pratical problems must be submitted in this ipynb notebook, and equations wherever required, should be formatted using LaTeX math-mode.\n",
    "*   All discussion regarding practical problems, along with solutions and plots should be specified in this notebook. All plots/results should be visible such that the notebook do not have to be run. But the code in the notebook should reproduce the plots/results if we choose to do so.\n",
    "*   Your name, personal number and email address should be specified above.\n",
    "*   All tables and other additional information should be included in this notebook.\n",
    "*   Before submitting, make sure that your code can run on another computer. That all plots can show on another computer including all your writing. It is good to check if your code can run here: https://colab.research.google.com.\n"
   ]
  },
  {
   "cell_type": "markdown",
   "metadata": {},
   "source": [
    "Self-check \n",
    "1. Have you answered all questions to the best of your ability? \n",
    "2. Anything else you can easily check? (details, terminology, arguments, commenting for code etc.?) \n",
    "\n",
    "Grading will be based on a qualitative assessment of each assignment. It is important to:\n",
    "*\tPresent clear arguments\n",
    "*\tPresent the results in a pedagogical way\n",
    "*\tShow understanding of the topics (e.g, write a pseudocode) \n",
    "*\tGive correct solutions\n",
    "*\tMake sure that the code is well commented \n",
    "\n",
    "**Again, as mentioned in general guidelines, all code should be written here. And this same ipython notebook file (RLAssignment.ipynb) should be submitted with answers and code written in it. Ipython notebook is mandatory submission. And also submit HTML version of it for easy readibility (goto File/Download as). NO OTHER FORMAT SHALL BE ACCEPTED.** \n"
   ]
  },
  {
   "cell_type": "markdown",
   "metadata": {},
   "source": [
    "# Primer\n",
    "\n",
    "## Decision Making\n",
    "The problem of **decision making under uncertainty** (commonly known as **reinforcement learning**) can be broken down into\n",
    "two parts. First, how do we learn about the world? This involves both the\n",
    "problem of modeling our initial uncertainty about the world, and that of drawing conclusions from evidence and our initial belief. Secondly, given what we\n",
    "currently know about the world, how should we decide what to do, taking into\n",
    "account future events and observations that may change our conclusions?\n",
    "Typically, this will involve creating long-term plans covering possible future\n",
    "eventualities. That is, when planning under uncertainty, we also need to take\n",
    "into account what possible future knowledge could be generated when implementing our plans. Intuitively, executing plans which involve trying out new\n",
    "things should give more information, but it is hard to tell whether this information will be beneficial. The choice between doing something which is already\n",
    "known to produce good results and experiment with something new is known\n",
    "as the **exploration-exploitation dilemma**.\n",
    "\n",
    "## The exploration-exploitation trade-off\n",
    "\n",
    "Consider the problem of selecting a restaurant to go to during a vacation.Lets say the\n",
    "best restaurant you have found so far was **Les Epinards**. The food there is\n",
    "usually to your taste and satisfactory. However, a well-known recommendations\n",
    "website suggests that **King’s Arm** is really good! It is tempting to try it out. But\n",
    "there is a risk involved. It may turn out to be much worse than **Les Epinards**,\n",
    "in which case you will regret going there. On the other hand, it could also be\n",
    "much better. What should you do?\n",
    "It all depends on how much information you have about either restaurant,\n",
    "and how many more days you’ll stay in town. If this is your last day, then it’s\n",
    "probably a better idea to go to **Les Epinards**, unless you are expecting **King’s\n",
    "Arm** to be significantly better. However, if you are going to stay there longer,\n",
    "trying out **King’s Arm** is a good bet. If you are lucky, you will be getting much\n",
    "better food for the remaining time, while otherwise you will have missed only\n",
    "one good meal out of many, making the potential risk quite small."
   ]
  },
  {
   "cell_type": "markdown",
   "metadata": {},
   "source": [
    "## Overview\n",
    "* To make things concrete, we will first focus on decision making under **no** uncertainity, i.e, given we have a world model, we can calculate the exact and optimal actions to take in it. We shall first introduce **Markov Decision Process (MDP)** as the world model. Then we give one algorithm (out of many) to solve it.\n",
    "\n",
    "\n",
    "* Next, we will work through one type of reinforcement learning algorithm called Q-learning. Q-learning is an algorithm for making decisions under uncertainity, where uncertainity is over the possible world model (here MDP). It will find the optimal policy for the **unknown** MDP, assuming we do infinite exploration."
   ]
  },
  {
   "cell_type": "markdown",
   "metadata": {},
   "source": [
    "## Markov Decision Process"
   ]
  },
  {
   "cell_type": "markdown",
   "metadata": {},
   "source": [
    "Markov Decision Process (MDP) provides a mathematical framework for modeling decision-making. It is a discrete time (distinct points in time) stochastic (randomly determined) process.\n",
    "\n",
    "MDPs are made up of 4 parts:  \n",
    "S: Finite set of states (Ex: s<sub>1</sub>, s<sub>2</sub> ... s<sub>N</sub>)  \n",
    "A: Finite set of actions (Ex: North, South, East, West)  \n",
    "P<sub>a</sub>(s,s'): Probability that action *a* in state *s* at time *t* will lead to state *s'* at time *t + 1*  \n",
    "R<sub>a</sub>(s,s'): Immediate reward received after moving from state *s* to state *s'* by action *a*\n",
    "\n",
    "An agent acts in an MDP at time *t*, by taking certain action *a* in state *s*, going to state *s'*, and getting a reward *r* from the world. It then repeats the process for certain no. of times, either finite or infinite.\n",
    "\n",
    "We also include a $5^{th}$ part in the description of an MDP called Gamma $\\gamma$.  \n",
    "$\\gamma$: The discount factor between 0 (inclusive) and 1 (exclusive). This determines how much credit you want to give to the future. If you think that the future reward is as important as the current reward you would set this to 0.99999. If you don't care about the future rewards you would set this to 0 and you only care about the current reward. For example, if your discount factor is 0.8 and after 5 steps you get a reward of 4 the present value of that reward is $0.8^4 * 5$ or ~2.\n",
    "\n",
    "An MDP is a collection of states such that each state has a selection of actions associated with them. With each state-action pair comes a reward *r* (can be 0). Define a policy function: $\\pi: s \\rightarrow a$, which tells which action to take at each state.\n",
    "  \n",
    "We now use the famous dynamic programming equation, also known as Bellman Equation, to define optimality in an MDP. The following equation defines what we call the **value function** of state *s* following some fixed policy $\\pi$:  \n",
    "\n",
    "$$V^\\pi(s) = \\sum_{s'} P_{\\pi(s)}(s,s') [R_{\\pi(s)}(s,s') + \\gamma V^\\pi(s')]$$\n",
    "\n",
    "We call $V^\\pi$ as the value of policy $\\pi$.  \n",
    "  \n",
    "Now, to find the **optimal** policy you will need to find the action that gives the highest reward.  \n",
    "\n",
    "$$V^*(s) = max_a \\sum_{s'} P_a(s,s') [R_a(s,s') + \\gamma V^*(s')]$$\n",
    "\n",
    "A real world example would be an inventory control system. Your states would be the amount of items you have in stock. Your actions would be the amount to order. The discrete time would be the days of the month. The reward would be the profit.  \n",
    "\n",
    "A major drawback of MDPs is called the \"Curse of Dimensionality\". This states that the more states/actions you have the more computational difficult it is to solve.   \n"
   ]
  },
  {
   "cell_type": "markdown",
   "metadata": {},
   "source": [
    "## Question 1 (2 points)"
   ]
  },
  {
   "cell_type": "markdown",
   "metadata": {},
   "source": [
    "For the first question of the notebook, we give a quick example of an MDP. We would to see if you can put the definitions above into practice.\n",
    "\n",
    "**Question a**: Given the following deterministic MDP (you select North, you move North), what is the optimal policy (path with the most points)?\n",
    "  \n",
    "*Notes*:  \n",
    "  * The number in the box is the reward.  \n",
    "  * Once you hit the end you are done. (Absorbing state)\n",
    "  * S is the starting point.  \n",
    "  * F is the ending point.  \n",
    "  * Use N for North, E for East, S for South, and W for West. Not all actions are available at each state, for example, you can't choose N and W at starting state, as there exists no valid next states in those directions.  \n",
    "  * Pass the directions as a single string. Ex: ESWN will make a circle.  \n",
    "  \n",
    "\n",
    "\n",
    "| | | |\n",
    "|----------|----------|---------|\n",
    "|S|1|1|\n",
    "|1 |0|1|  \n",
    "|-1|-1|0|  \n",
    "|0 |0|F|"
   ]
  },
  {
   "cell_type": "markdown",
   "metadata": {},
   "source": [
    "Answer: SENESSS with a reward of 4 points."
   ]
  },
  {
   "cell_type": "markdown",
   "metadata": {},
   "source": [
    "Question b,c will attempt to firm up your knowledge of the parts of an MDP. Just remember that for a state denoted by (x,y), state N/E/S/W to that are (x,y-1),(x+1,y),(x,y+1),(x-1,y) respectively. We take (0,0) as the starting state S.\n",
    "\n",
    "**Question b:** What is the probability of going from state (1,0) to state (2,0) using action E ? ( i.e,  $P_E((1,0),(2,0))$ )"
   ]
  },
  {
   "cell_type": "markdown",
   "metadata": {},
   "source": [
    "Answer: It will give a 100% probability from state (1,0) to state(2,0) for the action E."
   ]
  },
  {
   "cell_type": "markdown",
   "metadata": {},
   "source": [
    "**Question c:** What is the reward for moving from state (1,0) to state (2,0) ? ( i.e, $R_E((1,0),(2,0))$ )"
   ]
  },
  {
   "cell_type": "markdown",
   "metadata": {},
   "source": [
    "Answer:  Since the value of state(2,0) is +1 the transition from (1,0) to (2,0) will give a Reward = +1 point."
   ]
  },
  {
   "cell_type": "markdown",
   "metadata": {},
   "source": [
    "## Value Iteration"
   ]
  },
  {
   "cell_type": "markdown",
   "metadata": {},
   "source": [
    "\n",
    "The value function is based on the Bellman Equation for optimal value, which we recall here:  \n",
    "$$V^*(s) = max_a \\sum_{s'} P_a(s,s') [R_a(s,s') + \\gamma V^*(s')]$$\n",
    "\n",
    "The value iteration (VI) is one algorithm that can be used to find the optimal policy ($\\pi^*$). Note that for any policy $\\pi^*$ to be optimal, it must satisfy the Bellman equation for optimal value function $V^*$. For any candidate $V^*$, it must be such that plugging it in the RHS (right-hand-side) of Bellman equation should give the same $V^*$ again (by the recursive nature of this equation). This property forms the basis of VI algorithm. Essentially, due to certain mathematical results, repeated application of RHS to any intial value function $V^0(s)$ will eventually lead to the value $V^*$ which statifies the Bellman equation. Once converged*, one can extract the optimal actions by simply noting the actions that satisfy the equation.\n",
    "\n",
    "\n",
    "Note: By 'converge', we mean that the quantity of interest doesn't change anymore by further iterations of the algorithm."
   ]
  },
  {
   "cell_type": "markdown",
   "metadata": {},
   "source": [
    "The value iteration algorithm practically procedes as follows:\n",
    "\n",
    "```\n",
    "epsilon is a small value, threshold\n",
    "V_k[s] = 0 for all s\n",
    "while |V_k[s]-V_k-1[s]| > epsilon for any s\n",
    "do\n",
    "    for each state s\n",
    "    do\n",
    "        V_k[s] = max_a Σ_s' P_a(s,s')*(R_a(s,s′) + γ*V_k−1[s′])\n",
    "    end\n",
    "end\n",
    "\n",
    "for each state s\n",
    "do\n",
    "    π(s)=argmax_a ∑_s′ P_a(s,s')*(R_a(s,s′) + γ*V_k[s′])\n",
    "end\n",
    "\n",
    "return π, V_k\n",
    "```\n"
   ]
  },
  {
   "cell_type": "markdown",
   "metadata": {},
   "source": [
    "Example: Below is a 3x3 grid. We are going to walk through a few iterations to firm up your understanding. Lets assume this time that success of taking any action is 0.8. Meaning if we take E from a valid state (x,y), we will go (x+1,y) 0.8 percent of time, but remain in same state the remaining time. We will have a discount factor ($\\gamma$) of 0.9. Assume $V^0(s')=0$ for all s'. \n",
    "\n",
    "| | | |  \n",
    "|----------|----------|---------|  \n",
    "|0|0|0|\n",
    "|0|10|0|  \n",
    "|0|0|0|  \n",
    "\n",
    "\n",
    "**Iteration 1**: It is trivial, V(s) becomes the $max_a \\sum_{s'} P_a(s,s') R_a(s,s')$ since $V^0$ was zero for s'.\n",
    "\n",
    "| | | |  \n",
    "|----------|----------|---------|  \n",
    "|0|8|0|\n",
    "|8|2|8|  \n",
    "|0|8|0|  \n",
    "  \n",
    "**Iteration 2**:  \n",
    "  \n",
    "Staring with cell (0,0): We find the expected value of each move:  \n",
    "Action N: 0  \n",
    "Action E: 0.8( 0 + 0.9 \\* 8) + 0.2(0 + 0.9 \\* 0) = 5.76  \n",
    "Action S: 0.8( 0 + 0.9 \\* 8) + 0.2(0 + 0.9 \\* 0) = 5.76  \n",
    "Action W: 0\n",
    "\n",
    "Hence any action between E and S would have been best at this stage.\n",
    "\n",
    "Similarly for cell (1,0):\n",
    "\n",
    "Action S: 0.8( 10 + 0.9 \\* 2) + 0.2(0 + 0.9 \\* 8) = 10.88 (Action S is the maximizing action)  \n",
    "\n",
    "Similar calculations for remaining cells give us:\n",
    "\n",
    "| | | |  \n",
    "|----------|----------|---------|  \n",
    "|5.76|10.88|5.76|\n",
    "|10.88|8.12|10.88|  \n",
    "|5.76|10.88|5.76|  \n"
   ]
  },
  {
   "cell_type": "markdown",
   "metadata": {},
   "source": [
    "## Question 2 (2 points)\n",
    "Please code the value iteration algorithm just described, and show the optimal value function of the above 3x3 grid problem at convergence (the value function doesn't change anymore)."
   ]
  },
  {
   "cell_type": "code",
   "execution_count": 1,
   "metadata": {},
   "outputs": [],
   "source": [
    "import gym\n",
    "import numpy as np\n",
    "import random\n",
    "random.seed(25)"
   ]
  },
  {
   "cell_type": "code",
   "execution_count": 2,
   "metadata": {},
   "outputs": [],
   "source": [
    "def has_converged(old_matrix, new_matrix, eps = 0.01):\n",
    "    for x in range(len(old_matrix)):\n",
    "        if isinstance(old_matrix[0], list):\n",
    "            for y in range(len(old_matrix[x])):\n",
    "                # Check if a cell value is more than epsilon\n",
    "                if abs(old_matrix[x][y] - new_matrix[x][y]) > eps:\n",
    "                    return False\n",
    "        else:\n",
    "            # Check if a cell value is more than epsilon\n",
    "            if abs(old_matrix[x] - new_matrix[x]) > eps:\n",
    "                return False\n",
    "    \n",
    "    return True"
   ]
  },
  {
   "cell_type": "code",
   "execution_count": 3,
   "metadata": {},
   "outputs": [
    {
     "name": "stdout",
     "output_type": "stream",
     "text": [
      "Pi:\n",
      "(0, 1)\n",
      "\n",
      "V:\n",
      "[[45.51308975615337, 51.84821804250116, 45.51308975615337], [51.84821804250116, 47.95211414639727, 51.84821804250116], [45.51308975615337, 51.84821804250116, 45.51308975615337]]\n"
     ]
    }
   ],
   "source": [
    "def transition_reward(i, j, V, rewards, success, gamma):\n",
    "    reward = - 5\n",
    "    \n",
    "    if (i + 1 in range(3) and j in range(3)):\n",
    "        reward = max(reward, success * (rewards[i + 1][j] + gamma * V[i + 1][j]) + (1 - success) * (rewards[i][j] + gamma * V[i][j]))\n",
    "                \n",
    "    if (i - 1 in range(3) and j in range(3)):\n",
    "        reward = max(reward, success * (rewards[i - 1][j] + gamma * V[i - 1][j]) + (1 - success) * (rewards[i][j] + gamma * V[i][j]))\n",
    "                \n",
    "    if (i in range(3) and j - 1 in range(3)):\n",
    "        reward = max(reward, success * (rewards[i][j - 1] + gamma * V[i][j - 1]) + (1 - success) * (rewards[i][j] + gamma * V[i][j]))\n",
    "                \n",
    "    if (i in range(3) and j + 1 in range(3)):\n",
    "        reward = max(reward, success * (rewards[i][j + 1] + gamma * V[i][j + 1]) + (1 - success) * (rewards[i][j] + gamma * V[i][j]))\n",
    "            \n",
    "    return reward\n",
    "    \n",
    "\n",
    "def value_iteration():\n",
    "    \n",
    "    success = 0.8\n",
    "\n",
    "    gamma = 0.9\n",
    "\n",
    "    rewards = [\n",
    "        [0,  0, 0],\n",
    "        [0, 10, 0],\n",
    "        [0,  0, 0],\n",
    "    ]\n",
    "\n",
    "    V = [\n",
    "        [0, 0, 0],\n",
    "        [0, 0, 0],\n",
    "        [0, 0, 0]\n",
    "    ]\n",
    "\n",
    "    epsilon = 0.001\n",
    "\n",
    "    while True:\n",
    "\n",
    "        V_new = []\n",
    "        \n",
    "        for x in range(len(V)):\n",
    "\n",
    "            row_new = []\n",
    "\n",
    "            for y in range(len(V[x])):\n",
    "                \n",
    "                reward = transition_reward(x, y, V, rewards, success, gamma)\n",
    "\n",
    "                row_new.append(reward)\n",
    "            \n",
    "            V_new.append(row_new)\n",
    "        \n",
    "        if has_converged(V, V_new):\n",
    "            break\n",
    "        \n",
    "        V = V_new\n",
    "            \n",
    "    pi = np.unravel_index(np.array(V_new).argmax(), np.array(V_new).shape)\n",
    "    return pi, V\n",
    "\n",
    "pi, V_new = value_iteration()\n",
    "\n",
    "print(f\"Pi:\\n{pi}\")\n",
    "print(\"\\nV:\")\n",
    "print(V_new)"
   ]
  },
  {
   "cell_type": "markdown",
   "metadata": {},
   "source": [
    "## Reinforcement Learning (RL)\n",
    "Until now, we understood that knowing the MDP, specifically $P_a(s,s')$ and $R_a(s,s')$ allows us to efficiently find the optimal policy using value iteration algorithm, but RL or decision making under uncertainity arises from the question of making optimal decisions without knowing the true world model (MDP in this case).\n",
    "\n",
    "So far we have defined the value of a state $V^\\pi$ (for fixed policy). Let us now define the value of an action, $Q^\\pi$:\n",
    "\n",
    "$$Q^\\pi(s,a) = \\sum_{s'} P_a(s,s') [R_a(s,s') + \\gamma V^\\pi(s')]$$\n",
    "\n",
    "i.e, the value of taking action *a* from state *s* and then following $\\pi$ onwards. Similarly, the optimal Q-value equation is:\n",
    "\n",
    "$$Q^*(s,a) = \\sum_{s'} P_a(s,s') [R_a(s,s') + \\gamma V^*(s')]$$\n",
    "\n",
    "## Q-learning\n",
    "\n",
    "Q-learning algorithm can be used by an agent unaware of its surroundings (unknown MDP). All it can do is take an action *a* at time *t* from state *s* and observe the reward *r* and next state *s'*, and repeat this process again. So how it can learn to act optimally under such uninformative conditions ? Answer is using Q-learning. Without going into its justification, we simply state the main-update rule of this algorithm below:\n",
    "\n",
    "![alt text](https://chalmersuniversity.box.com/shared/static/5anbos4s9luoayb32jk6w3wy3w4jk3g3.png)\n",
    "\n",
    "Where we simply maintain Q(s,a) value for each state-action pair in a table. It is proven to converge to the optimal policy of the underlying unknown MDP for a small learning rate $\\alpha$ (you have to play around with values ranging from 0.1 to 0.00001)\n",
    "## OpenAI Gym ($\\leq 0.19.0$)\n",
    "\n",
    "We shall use already available simulators for different environments (world) using the popular OpenAI Gym library. It just implements [differnt types of simulators](https://gym.openai.com/) including ATARI games. Although here we will only focus on simple ones, such as [Chain enviroment](https://gym.openai.com/envs/NChain-v0/).\n",
    "![alt text](https://chalmersuniversity.box.com/shared/static/6tthbzhpofq9gzlowhr3w8if0xvyxb2b.jpg)\n",
    "\n",
    "## Question 3 (1 point)\n",
    "Basically, there are 5 states, and two actions 'a' and 'b'. Each transition (s,a,s') is noted with its corresponding reward. You are to first familiarize with the framework using its [documentation](http://gym.openai.com/docs/), and then implement the \"$\\epsilon$-greedy Q-learning\" algorithm for the Chain enviroment (called 'NChain-v0') using default parameters. Finally print the $Q^*$ table at convergence. Take $\\gamma=0.95$. \n",
    "\n",
    "Hints:\n",
    "* You can refer to the Q-learning Jupyter notebook shown in class, uploaded on Canvas.\n",
    "* Try some decreasing sequences of $\\epsilon$ (1/t etc.) with small fixed learning rate $\\alpha$.\n",
    "* Latest Gym version (0.23.1) does not have the Chain environment, you need to install any version $\\leq 0.19.0$. You can do so in Google colab by command: \" !pip install gym==version \".\n",
    "\n"
   ]
  },
  {
   "cell_type": "code",
   "execution_count": 4,
   "metadata": {},
   "outputs": [
    {
     "data": {
      "text/plain": [
       "array([[0., 0.],\n",
       "       [0., 0.],\n",
       "       [0., 0.],\n",
       "       [0., 0.],\n",
       "       [0., 0.]])"
      ]
     },
     "execution_count": 4,
     "metadata": {},
     "output_type": "execute_result"
    }
   ],
   "source": [
    "num_episodes = 15000\n",
    "gamma = 0.95\n",
    "learning_rate = 0.7\n",
    "epsilon = 0.1\n",
    "\n",
    "env = gym.make(\"NChain-v0\")\n",
    "\n",
    "Q = np.zeros([5, 2])\n",
    "\n",
    "for _ in range(num_episodes):\n",
    "    state = env.reset() \n",
    "    done = False \n",
    "    learning_rate*=0\n",
    "    \n",
    "    while done == False: \n",
    "        # First we select an action: \n",
    "        if random.uniform(0, 1) < epsilon: # Flip a skewed coin \n",
    "            action = env.action_space.sample() # Explore action space \n",
    "        else: \n",
    "            action = np.argmax(Q[state,:]) # Exploit learned values \n",
    "            \n",
    "        # Then we perform the action and receive the feedback from the environment \n",
    "        new_state, reward, done, info = env.step(action) \n",
    "        \n",
    "        # Finally we learn from the experience by updating the Q-value of the selected act\n",
    "        prediction_error = reward + (gamma*np.max(Q[new_state,:])) - Q[state, action] \n",
    "        Q[state,action] += learning_rate*prediction_error\n",
    "        \n",
    "        state = new_state\n",
    "\n",
    "Q"
   ]
  },
  {
   "cell_type": "markdown",
   "metadata": {},
   "source": [
    "## Question 4 (2 points)\n",
    "\n",
    "Verify that the optimal $Q^*$ value obtained using Q-learning is same as the optimal value function $V^*$ (for the corresponding optimal action). You would have to first define the MDP corresponding to Chain enviroment.\n",
    "\n",
    "\n",
    "Hint: \n",
    "\n",
    "* \"Define the MDP..\" means to define \"$P_a(s,s')$\" and \"$R_a(s,s')$\" tables for the Chain environment. Its good to know that gym simulator that you use in Q3 takes the correct action with a probability of 0.8 (slip=0.2). This information is useful in defining $P_a(s,s')$ correctly (you can check the nchain.py file by going to the folder specified by 'print(gym.envs.toy_text)' command).\n",
    "\n",
    "* Once the \"p\" and \"r\" tables are defined, you can use your VI implementation from Q2 to compute the \"V*(s)\". Then the following relation must hold: $V^*(s) = max_a Q^*(s)$ for all s. This proves that the optimal solution can be obtained using Q-learning without knowing the underlying environment model (MDP), unlike the VI algorithm, which needs $P_a,R_a$ information."
   ]
  },
  {
   "cell_type": "code",
   "execution_count": 5,
   "metadata": {},
   "outputs": [
    {
     "name": "stdout",
     "output_type": "stream",
     "text": [
      "Optimal V from Value Iteration:\n",
      "[61.19433791197552, 64.70614591197555, 69.32694591197554, 75.40694591197554, 83.40694591197554]\n"
     ]
    }
   ],
   "source": [
    "def q_value_iteration():\n",
    "    \n",
    "    success = 0.8\n",
    "    \n",
    "    gamma = 0.95\n",
    "\n",
    "    rewards = [\n",
    "        [0, 2],\n",
    "        [0, 2],\n",
    "        [0, 2],\n",
    "        [0, 2],\n",
    "        [10, 2]\n",
    "    ]\n",
    "\n",
    "    V = [0.0, 0.0, 0.0, 0.0, 0.0]\n",
    "\n",
    "    while True:\n",
    "        \n",
    "        V_new = []\n",
    "\n",
    "        for x in range(len(V)):\n",
    "            state = x + 1 if x < 4 else 4\n",
    "            \n",
    "            score_a = success * (rewards[x][0] + gamma * V[state]) + (1 - success) * (rewards[x][1] + gamma * V[0])\n",
    "            \n",
    "            score_b = success * (rewards[x][1] + gamma * V[0]) + (1 - success) * (rewards[x][0] + gamma * V[state])\n",
    "\n",
    "            V_new.append(max(score_a, score_b))\n",
    "            \n",
    "        if has_converged(V, V_new):\n",
    "            break\n",
    "            \n",
    "        V = V_new\n",
    "\n",
    "    return V_new\n",
    "\n",
    "V = q_value_iteration()\n",
    "\n",
    "print(\"Optimal V from Value Iteration:\")\n",
    "print(V)"
   ]
  },
  {
   "cell_type": "code",
   "execution_count": 7,
   "metadata": {},
   "outputs": [
    {
     "ename": "NameError",
     "evalue": "name 'q' is not defined",
     "output_type": "error",
     "traceback": [
      "\u001b[1;31m---------------------------------------------------------------------------\u001b[0m",
      "\u001b[1;31mNameError\u001b[0m                                 Traceback (most recent call last)",
      "\u001b[1;32mC:\\Users\\ADMINI~1\\AppData\\Local\\Temp/ipykernel_6572/1669616752.py\u001b[0m in \u001b[0;36m<module>\u001b[1;34m\u001b[0m\n\u001b[0;32m      9\u001b[0m \u001b[1;31m# avgerage /= len(V)\u001b[0m\u001b[1;33m\u001b[0m\u001b[1;33m\u001b[0m\u001b[1;33m\u001b[0m\u001b[0m\n\u001b[0;32m     10\u001b[0m \u001b[1;33m\u001b[0m\u001b[0m\n\u001b[1;32m---> 11\u001b[1;33m \u001b[0mprint\u001b[0m\u001b[1;33m(\u001b[0m\u001b[1;34m\"Result from Q*:\"\u001b[0m\u001b[1;33m,\u001b[0m \u001b[0mnp\u001b[0m\u001b[1;33m.\u001b[0m\u001b[0mmax\u001b[0m\u001b[1;33m(\u001b[0m\u001b[0mq\u001b[0m\u001b[1;33m,\u001b[0m \u001b[0maxis\u001b[0m \u001b[1;33m=\u001b[0m \u001b[1;36m1\u001b[0m\u001b[1;33m)\u001b[0m\u001b[1;33m)\u001b[0m\u001b[1;33m\u001b[0m\u001b[1;33m\u001b[0m\u001b[0m\n\u001b[0m\u001b[0;32m     12\u001b[0m \u001b[0mprint\u001b[0m\u001b[1;33m(\u001b[0m\u001b[1;34m\"Result from V*:\"\u001b[0m\u001b[1;33m,\u001b[0m \u001b[0mV\u001b[0m\u001b[1;33m)\u001b[0m\u001b[1;33m\u001b[0m\u001b[1;33m\u001b[0m\u001b[0m\n\u001b[0;32m     13\u001b[0m \u001b[1;33m\u001b[0m\u001b[0m\n",
      "\u001b[1;31mNameError\u001b[0m: name 'q' is not defined"
     ]
    }
   ],
   "source": [
    "difference = 0\n",
    "avgerage = 0\n",
    "\n",
    "for i in range(len(V)):\n",
    "    difference += abs(np.max(Q, axis = 1)[i] - V[i])\n",
    "    avgerage += (np.max(Q, axis = 1)[i] + V[i]) / 2\n",
    "\n",
    "# difference /= len(V)\n",
    "# avgerage /= len(V)\n",
    "\n",
    "print(\"Result from Q*:\", np.max(q, axis = 1))\n",
    "print(\"Result from V*:\", V)\n",
    "\n",
    "print(f\"\\nAverage difference between Q* and V*: {round(difference / len(V) , 3)}, i.e. {difference / avgerage * 100, 3}%\")"
   ]
  },
  {
   "cell_type": "markdown",
   "metadata": {},
   "source": [
    "## Question 4 (3 point)\n",
    "\n",
    "* what was the significance of exploration in RL ? How did you control it in the case Q-learning algorithm ? (1.5 pts)"
   ]
  },
  {
   "cell_type": "markdown",
   "metadata": {},
   "source": [
    "Choosing actions at random (exploration) instead of choosing actions based on the maximum future reward (exploitation) is essential. It allows the agent to probe and discover new states not selected in the mining process, which might get a higher reward. Also, exploration gets a more accurate model of the environment. \n",
    "Epsilon's greedy approach selects the action with the highest estimated reward most of the time. The goal is to have a balance between exploration and exploitation. Exploration allows us some room to try new things, sometimes contradicting what we have already learned."
   ]
  },
  {
   "cell_type": "markdown",
   "metadata": {},
   "source": [
    "* Briefly discuss the k-armed bandit problem formulation and it's distinguishing feature as a special case of the reinforcement learning problem formulation. (1.5 pts)"
   ]
  },
  {
   "cell_type": "markdown",
   "metadata": {},
   "source": [
    "The k-armed bandit problem is a hypothetical problem in which a player is faced with a sequence of K slot machines. Each machine will have a certain probability of returning the reward. This probability is different for each machine, and this probability is also an unknown variable to the player. The player's ultimate goal is to minimize losses or maximize the benefits gained during the game.\n",
    "\n",
    "In the problem of k-armed bandits, one of the essential factors is the trade-off in the exploration and exploitation process (exploration-exploitation trade-offs). In other words, we are trying to strike a balance between exploration and exploitation. The goal will be to optimize the cost of exploration and profit from mining. This is also what makes reinforcement learning algorithms so valuable."
   ]
  },
  {
   "cell_type": "markdown",
   "metadata": {},
   "source": [
    "## Note\n",
    "\n",
    "* Until now, we have described algorithms for when no. of states and actions are finite. In coming weeks, you will be taught how to extend these methods to continous state enviroments like ATARI games.\n",
    "\n",
    "# References\n",
    "Primer/text based on the following references:\n",
    "* http://www.cse.chalmers.se/~chrdimi/downloads/book.pdf\n",
    "* https://github.com/olethrosdc/ml-society-science/blob/master/notes.pdf"
   ]
  },
  {
   "cell_type": "code",
   "execution_count": null,
   "metadata": {},
   "outputs": [],
   "source": []
  }
 ],
 "metadata": {
  "kernelspec": {
   "display_name": "Python 3 (ipykernel)",
   "language": "python",
   "name": "python3"
  },
  "language_info": {
   "codemirror_mode": {
    "name": "ipython",
    "version": 3
   },
   "file_extension": ".py",
   "mimetype": "text/x-python",
   "name": "python",
   "nbconvert_exporter": "python",
   "pygments_lexer": "ipython3",
   "version": "3.9.5"
  }
 },
 "nbformat": 4,
 "nbformat_minor": 2
}
